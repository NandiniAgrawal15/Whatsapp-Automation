{
 "cells": [
  {
   "cell_type": "code",
   "execution_count": 1,
   "source": [
    "##Various Functions from selenium package are imported which are to be used in Automation Instagram.\r\n",
    "from selenium import webdriver\r\n",
    "from selenium.webdriver.support.ui import WebDriverWait\r\n",
    "from selenium.webdriver.support import expected_conditions as ec\r\n",
    "from selenium.webdriver.common.keys import Keys\r\n",
    "from selenium.webdriver.common.by import By\r\n",
    "from time import sleep"
   ],
   "outputs": [],
   "metadata": {}
  },
  {
   "cell_type": "code",
   "execution_count": 2,
   "source": [
    "#Opens a tab and asks to scan whatspp Web.\r\n",
    "driver=webdriver.Chrome(\"C:\\Windows\\chromedriver.exe\")\r\n",
    "driver.get(\"https://web.whatsapp.com/\")\r\n",
    "sleep(1)\r\n",
    "driver.maximize_window() #maximizes the window"
   ],
   "outputs": [],
   "metadata": {}
  },
  {
   "cell_type": "code",
   "execution_count": 6,
   "source": [
    "target='\"User_name\"' # Accurately as the number is save.\r\n",
    "text=\"Message\" # Message to be sent."
   ],
   "outputs": [],
   "metadata": {}
  },
  {
   "cell_type": "code",
   "execution_count": 4,
   "source": [
    "wait=WebDriverWait(driver,600) # Waits till the web is scanned "
   ],
   "outputs": [],
   "metadata": {}
  },
  {
   "cell_type": "code",
   "execution_count": 7,
   "source": [
    "#Waits to find the target.\r\n",
    "find_target=driver.find_element_by_xpath(\"/html/body/div/div[1]/div[1]/div[3]/div/div[1]/div/label/div\")\r\n",
    "find_target.click()\r\n",
    "sleep(1)  "
   ],
   "outputs": [],
   "metadata": {}
  },
  {
   "cell_type": "code",
   "execution_count": 8,
   "source": [
    "#X-path Locator\r\n",
    "xpath = '//span[contains(@title, '+target+')]' \r\n",
    "target=wait.until(ec.presence_of_element_located((By.XPATH, xpath)))\r\n",
    "target.click()"
   ],
   "outputs": [],
   "metadata": {}
  },
  {
   "cell_type": "code",
   "execution_count": 9,
   "source": [
    "#to open the message box \r\n",
    "msg_box=driver.find_element_by_xpath(\"/html/body/div/div[1]/div[1]/div[4]/div[1]/footer/div[1]/div[2]/div/div[1]/div/div[2]\")\r\n",
    "msg_box.click()\r\n",
    "sleep(1)\r\n",
    "msg_box.send_keys(text+Keys.ENTER) # text is the message to send."
   ],
   "outputs": [],
   "metadata": {}
  },
  {
   "cell_type": "code",
   "execution_count": 10,
   "source": [
    "#to send the emoji\r\n",
    "\r\n",
    "text_element = driver.find_element_by_xpath('/html/body/div/div[1]/div[1]/div[4]/div[1]/footer/div[1]/div[2]/div/div[1]/div/div[2]')\r\n",
    "text = '😀' #any emoji\r\n",
    "\r\n",
    "driver.execute_script(\"arguments[0].innerHTML = '{}'\".format(text),text_element)\r\n",
    "text_element .send_keys('.')\r\n",
    "text_element .send_keys(Keys.BACKSPACE)\r\n",
    "\r\n",
    "click_to_send=driver.find_element_by_xpath(\"/html/body/div/div[1]/div[1]/div[4]/div[1]/footer/div[1]/div[2]/div/div[2]/button\")\r\n",
    "click_to_send.click()"
   ],
   "outputs": [],
   "metadata": {}
  },
  {
   "cell_type": "markdown",
   "source": [
    "TO change the profile name and add emoji to it "
   ],
   "metadata": {}
  },
  {
   "cell_type": "code",
   "execution_count": 17,
   "source": [
    "three_dot_switch=driver.find_element_by_xpath(\"/html/body/div/div[1]/div[1]/div[3]/div/header/div[2]/div/span/div[3]/div/span\")\r\n",
    "three_dot_switch.click()\r\n",
    "\r\n",
    "sleep(1)\r\n",
    "click_to_view_profile=driver.find_element_by_xpath(\"/html/body/div/div[1]/div[1]/div[3]/div/header/div[2]/div/span/div[3]/span/div[1]/ul/li[3]/div[1]\")\r\n",
    "click_to_view_profile.click()\r\n",
    "\r\n",
    "sleep(1)"
   ],
   "outputs": [],
   "metadata": {}
  },
  {
   "cell_type": "code",
   "execution_count": 18,
   "source": [
    "name=\"Nandini\"\r\n",
    "#write the name to be changed "
   ],
   "outputs": [],
   "metadata": {}
  },
  {
   "cell_type": "code",
   "execution_count": 19,
   "source": [
    "name_change_to_write=driver.find_element_by_xpath(\"/html/body/div/div[1]/div[1]/div[2]/div[1]/span/div[1]/div/div/div[2]/div[2]/div[1]/span[2]/div\")\r\n",
    "name_change_to_write.click()\r\n",
    "sleep(1)\r\n"
   ],
   "outputs": [],
   "metadata": {}
  },
  {
   "cell_type": "code",
   "execution_count": 22,
   "source": [
    "name_change1=driver.find_element_by_xpath(\"/html/body/div/div[1]/div[1]/div[2]/div[1]/span/div[1]/div/div/div[2]/div[2]/div[1]/div/div[2]\")\r\n",
    "name_change1.clear()"
   ],
   "outputs": [],
   "metadata": {}
  },
  {
   "cell_type": "code",
   "execution_count": 23,
   "source": [
    "sleep(1)\r\n",
    "\r\n",
    "name_change1.send_keys(name+Keys.ENTER)"
   ],
   "outputs": [],
   "metadata": {}
  },
  {
   "cell_type": "code",
   "execution_count": 24,
   "source": [
    "#click the name panel \r\n",
    "name_change_to_write=driver.find_element_by_xpath(\"/html/body/div/div[1]/div[1]/div[2]/div[1]/span/div[1]/div/div/div[2]/div[2]/div[1]/span[2]/div\")\r\n",
    "name_change_to_write.click()\r\n",
    "sleep(1)"
   ],
   "outputs": [],
   "metadata": {}
  },
  {
   "cell_type": "code",
   "execution_count": 25,
   "source": [
    "#opens the emoji panel \r\n",
    "emoji_panel=driver.find_element_by_xpath(\"/html/body/div/div[1]/div[1]/div[2]/div[1]/span/div[1]/div/div/div[2]/div[2]/div[1]/span[1]/button\")\r\n",
    "emoji_panel.click()\r\n",
    "sleep(1)"
   ],
   "outputs": [],
   "metadata": {}
  },
  {
   "cell_type": "code",
   "execution_count": 26,
   "source": [
    "#open the type of emoji panel you want to select \r\n",
    "add_emoji=driver.find_element_by_xpath(\"/html/body/div/div[1]/span[4]/div/div[1]/div/div[1]/div/div[3]/span\")\r\n",
    "add_emoji.click()\r\n",
    "sleep(1)"
   ],
   "outputs": [],
   "metadata": {}
  },
  {
   "cell_type": "code",
   "execution_count": 27,
   "source": [
    "#click the particular selected emoji \r\n",
    "\r\n",
    "emoji1=driver.find_element_by_xpath(\"/html/body/div/div[1]/span[4]/div/div[1]/div/div[2]/div/div/div/div[1]/div/div[10]/div/div/div/span[1]\")\r\n",
    "emoji1.click()\r\n",
    "\r\n",
    "sleep(1)\r\n",
    "# click to save the changes \r\n",
    "click_to_save=driver.find_element_by_xpath(\"/html/body/div/div[1]/div[1]/div[2]/div[1]/span/div[1]/div/div/div[2]/div[2]/div[1]/span[2]/div/span\")\r\n",
    "\r\n",
    "click_to_save.click()"
   ],
   "outputs": [],
   "metadata": {}
  },
  {
   "cell_type": "code",
   "execution_count": 28,
   "source": [
    "#closes the panel\r\n",
    "click_to_close_panel=driver.find_element_by_xpath(\"/html/body/div/div[1]/div[1]/div[2]/div[1]/span/div[1]/div/header/div/div[1]/button/span\")\r\n",
    "click_to_close_panel.click()"
   ],
   "outputs": [],
   "metadata": {}
  },
  {
   "cell_type": "markdown",
   "source": [
    "To search a user from nav bar\r\n"
   ],
   "metadata": {}
  },
  {
   "cell_type": "code",
   "execution_count": 55,
   "source": [
    "click_on_msg_tool=driver.find_element_by_xpath(\"/html/body/div/div[1]/div[1]/div[3]/div/header/div[2]/div/span/div[2]/div/span\")\r\n",
    "click_on_msg_tool.click()\r\n",
    "sleep(1)"
   ],
   "outputs": [],
   "metadata": {}
  },
  {
   "cell_type": "code",
   "execution_count": 56,
   "source": [
    "#enter the name of the user\r\n",
    "to_search=\"user_name\""
   ],
   "outputs": [],
   "metadata": {}
  },
  {
   "cell_type": "code",
   "execution_count": 57,
   "source": [
    "type_name=driver.find_element_by_xpath(\"/html/body/div/div[1]/div[1]/div[2]/div[1]/span/div[1]/span/div[1]/div[1]/div/label/div/div[2]\")\r\n",
    "type_name.click()\r\n",
    "WebDriverWait(driver,10)\r\n",
    "type_name.send_keys(to_search+Keys.ENTER)"
   ],
   "outputs": [],
   "metadata": {}
  }
 ],
 "metadata": {
  "orig_nbformat": 4,
  "language_info": {
   "name": "python",
   "version": "3.9.5",
   "mimetype": "text/x-python",
   "codemirror_mode": {
    "name": "ipython",
    "version": 3
   },
   "pygments_lexer": "ipython3",
   "nbconvert_exporter": "python",
   "file_extension": ".py"
  },
  "kernelspec": {
   "name": "python3",
   "display_name": "Python 3.9.5 64-bit"
  },
  "interpreter": {
   "hash": "ac59ebe37160ed0dfa835113d9b8498d9f09ceb179beaac4002f036b9467c963"
  }
 },
 "nbformat": 4,
 "nbformat_minor": 2
}